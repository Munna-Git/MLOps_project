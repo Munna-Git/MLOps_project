{
 "cells": [
  {
   "cell_type": "code",
   "execution_count": 1,
   "id": "8966dc94",
   "metadata": {},
   "outputs": [],
   "source": [
    "# imports\n",
    "# standard libraries\n",
    "import pandas as pd\n",
    "import numpy as np\n",
    "\n",
    "# statistics\n",
    "from scipy import stats\n",
    "\n",
    "# visualizations\n",
    "import seaborn as sns\n",
    "import matplotlib.pyplot as plt\n",
    "\n",
    "# Ignore warnings\n",
    "import warnings\n",
    "warnings.filterwarnings('ignore')"
   ]
  },
  {
   "cell_type": "code",
   "execution_count": 2,
   "id": "0674ecb9",
   "metadata": {},
   "outputs": [],
   "source": [
    "# Options to display all columns and rows\n",
    "pd.set_option('display.max_columns', None)\n",
    "pd.set_option('display.max_rows', None)\n",
    "pd.options.display.float_format = '{:,.3f}'.format"
   ]
  },
  {
   "cell_type": "code",
   "execution_count": 3,
   "id": "b6ef4c67",
   "metadata": {},
   "outputs": [],
   "source": [
    "df = pd.read_csv(\"../data/raw/Customer-Churn-Records.csv\")"
   ]
  },
  {
   "cell_type": "code",
   "execution_count": 4,
   "id": "b98e0768",
   "metadata": {},
   "outputs": [
    {
     "data": {
      "text/html": [
       "<div>\n",
       "<style scoped>\n",
       "    .dataframe tbody tr th:only-of-type {\n",
       "        vertical-align: middle;\n",
       "    }\n",
       "\n",
       "    .dataframe tbody tr th {\n",
       "        vertical-align: top;\n",
       "    }\n",
       "\n",
       "    .dataframe thead th {\n",
       "        text-align: right;\n",
       "    }\n",
       "</style>\n",
       "<table border=\"1\" class=\"dataframe\">\n",
       "  <thead>\n",
       "    <tr style=\"text-align: right;\">\n",
       "      <th></th>\n",
       "      <th>RowNumber</th>\n",
       "      <th>CustomerId</th>\n",
       "      <th>Surname</th>\n",
       "      <th>CreditScore</th>\n",
       "      <th>Geography</th>\n",
       "      <th>Gender</th>\n",
       "      <th>Age</th>\n",
       "      <th>Tenure</th>\n",
       "      <th>Balance</th>\n",
       "      <th>NumOfProducts</th>\n",
       "      <th>HasCrCard</th>\n",
       "      <th>IsActiveMember</th>\n",
       "      <th>EstimatedSalary</th>\n",
       "      <th>Exited</th>\n",
       "      <th>Complain</th>\n",
       "      <th>Satisfaction Score</th>\n",
       "      <th>Card Type</th>\n",
       "      <th>Point Earned</th>\n",
       "    </tr>\n",
       "  </thead>\n",
       "  <tbody>\n",
       "    <tr>\n",
       "      <th>0</th>\n",
       "      <td>1</td>\n",
       "      <td>15634602</td>\n",
       "      <td>Hargrave</td>\n",
       "      <td>619</td>\n",
       "      <td>France</td>\n",
       "      <td>Female</td>\n",
       "      <td>42</td>\n",
       "      <td>2</td>\n",
       "      <td>0.000</td>\n",
       "      <td>1</td>\n",
       "      <td>1</td>\n",
       "      <td>1</td>\n",
       "      <td>101,348.880</td>\n",
       "      <td>1</td>\n",
       "      <td>1</td>\n",
       "      <td>2</td>\n",
       "      <td>DIAMOND</td>\n",
       "      <td>464</td>\n",
       "    </tr>\n",
       "    <tr>\n",
       "      <th>1</th>\n",
       "      <td>2</td>\n",
       "      <td>15647311</td>\n",
       "      <td>Hill</td>\n",
       "      <td>608</td>\n",
       "      <td>Spain</td>\n",
       "      <td>Female</td>\n",
       "      <td>41</td>\n",
       "      <td>1</td>\n",
       "      <td>83,807.860</td>\n",
       "      <td>1</td>\n",
       "      <td>0</td>\n",
       "      <td>1</td>\n",
       "      <td>112,542.580</td>\n",
       "      <td>0</td>\n",
       "      <td>1</td>\n",
       "      <td>3</td>\n",
       "      <td>DIAMOND</td>\n",
       "      <td>456</td>\n",
       "    </tr>\n",
       "    <tr>\n",
       "      <th>2</th>\n",
       "      <td>3</td>\n",
       "      <td>15619304</td>\n",
       "      <td>Onio</td>\n",
       "      <td>502</td>\n",
       "      <td>France</td>\n",
       "      <td>Female</td>\n",
       "      <td>42</td>\n",
       "      <td>8</td>\n",
       "      <td>159,660.800</td>\n",
       "      <td>3</td>\n",
       "      <td>1</td>\n",
       "      <td>0</td>\n",
       "      <td>113,931.570</td>\n",
       "      <td>1</td>\n",
       "      <td>1</td>\n",
       "      <td>3</td>\n",
       "      <td>DIAMOND</td>\n",
       "      <td>377</td>\n",
       "    </tr>\n",
       "    <tr>\n",
       "      <th>3</th>\n",
       "      <td>4</td>\n",
       "      <td>15701354</td>\n",
       "      <td>Boni</td>\n",
       "      <td>699</td>\n",
       "      <td>France</td>\n",
       "      <td>Female</td>\n",
       "      <td>39</td>\n",
       "      <td>1</td>\n",
       "      <td>0.000</td>\n",
       "      <td>2</td>\n",
       "      <td>0</td>\n",
       "      <td>0</td>\n",
       "      <td>93,826.630</td>\n",
       "      <td>0</td>\n",
       "      <td>0</td>\n",
       "      <td>5</td>\n",
       "      <td>GOLD</td>\n",
       "      <td>350</td>\n",
       "    </tr>\n",
       "    <tr>\n",
       "      <th>4</th>\n",
       "      <td>5</td>\n",
       "      <td>15737888</td>\n",
       "      <td>Mitchell</td>\n",
       "      <td>850</td>\n",
       "      <td>Spain</td>\n",
       "      <td>Female</td>\n",
       "      <td>43</td>\n",
       "      <td>2</td>\n",
       "      <td>125,510.820</td>\n",
       "      <td>1</td>\n",
       "      <td>1</td>\n",
       "      <td>1</td>\n",
       "      <td>79,084.100</td>\n",
       "      <td>0</td>\n",
       "      <td>0</td>\n",
       "      <td>5</td>\n",
       "      <td>GOLD</td>\n",
       "      <td>425</td>\n",
       "    </tr>\n",
       "  </tbody>\n",
       "</table>\n",
       "</div>"
      ],
      "text/plain": [
       "   RowNumber  CustomerId   Surname  CreditScore Geography  Gender  Age  \\\n",
       "0          1    15634602  Hargrave          619    France  Female   42   \n",
       "1          2    15647311      Hill          608     Spain  Female   41   \n",
       "2          3    15619304      Onio          502    France  Female   42   \n",
       "3          4    15701354      Boni          699    France  Female   39   \n",
       "4          5    15737888  Mitchell          850     Spain  Female   43   \n",
       "\n",
       "   Tenure     Balance  NumOfProducts  HasCrCard  IsActiveMember  \\\n",
       "0       2       0.000              1          1               1   \n",
       "1       1  83,807.860              1          0               1   \n",
       "2       8 159,660.800              3          1               0   \n",
       "3       1       0.000              2          0               0   \n",
       "4       2 125,510.820              1          1               1   \n",
       "\n",
       "   EstimatedSalary  Exited  Complain  Satisfaction Score Card Type  \\\n",
       "0      101,348.880       1         1                   2   DIAMOND   \n",
       "1      112,542.580       0         1                   3   DIAMOND   \n",
       "2      113,931.570       1         1                   3   DIAMOND   \n",
       "3       93,826.630       0         0                   5      GOLD   \n",
       "4       79,084.100       0         0                   5      GOLD   \n",
       "\n",
       "   Point Earned  \n",
       "0           464  \n",
       "1           456  \n",
       "2           377  \n",
       "3           350  \n",
       "4           425  "
      ]
     },
     "execution_count": 4,
     "metadata": {},
     "output_type": "execute_result"
    }
   ],
   "source": [
    "df.head()"
   ]
  },
  {
   "cell_type": "code",
   "execution_count": 5,
   "id": "86f435ea",
   "metadata": {},
   "outputs": [],
   "source": [
    "# Drop rownumber because the column is not necessary\n",
    "df.drop(columns={\"RowNumber\", \"Surname\", \"Complain\", \"CustomerId\"}, inplace=True)"
   ]
  },
  {
   "cell_type": "code",
   "execution_count": null,
   "id": "27b117f2",
   "metadata": {},
   "outputs": [],
   "source": [
    "# Renaming columns for Consistency\n",
    "df.rename(columns={\n",
    "    'Satisfaction Score\t': 'SatisfactionScore',\n",
    "    'Card Type': 'CardType',\n",
    "    'Point Earned': 'PointEarned'\n",
    "}, inplace=True)"
   ]
  },
  {
   "cell_type": "markdown",
   "id": "574375f5",
   "metadata": {},
   "source": [
    "Outliers"
   ]
  },
  {
   "cell_type": "code",
   "execution_count": 7,
   "id": "19544591",
   "metadata": {},
   "outputs": [],
   "source": [
    "# Subset the dataframe; only numeric columns\n",
    "numeric_df = df.select_dtypes(include=['number'])\n",
    "\n",
    "# IQR\n",
    "Q1 = numeric_df.quantile(0.25)\n",
    "Q3 = numeric_df.quantile(0.75)\n",
    "IQR = Q3 - Q1"
   ]
  },
  {
   "cell_type": "code",
   "execution_count": 9,
   "id": "cb51d35c",
   "metadata": {},
   "outputs": [],
   "source": [
    "# Get numeric columns excluding Client_Id\n",
    "columns_to_winsorize = numeric_df.columns[numeric_df.columns != 'CustomerId']"
   ]
  },
  {
   "cell_type": "code",
   "execution_count": null,
   "id": "938cd066",
   "metadata": {},
   "outputs": [],
   "source": [
    "# # Winsorization on outliers\n",
    "for column in columns_to_winsorize:\n",
    "    # Calculate lower and upper bounds\n",
    "    lower_bound = Q1[column] - 1.5 * IQR[column]\n",
    "    upper_bound = Q3[column] + 1.5 * IQR[column]\n",
    "    \n",
    "    # Apply winsorization\n",
    "    numeric_df[column] = numeric_df[column].clip(lower=lower_bound, upper=upper_bound)"
   ]
  },
  {
   "cell_type": "code",
   "execution_count": 13,
   "id": "e5928dbd",
   "metadata": {},
   "outputs": [
    {
     "data": {
      "text/html": [
       "<div>\n",
       "<style scoped>\n",
       "    .dataframe tbody tr th:only-of-type {\n",
       "        vertical-align: middle;\n",
       "    }\n",
       "\n",
       "    .dataframe tbody tr th {\n",
       "        vertical-align: top;\n",
       "    }\n",
       "\n",
       "    .dataframe thead th {\n",
       "        text-align: right;\n",
       "    }\n",
       "</style>\n",
       "<table border=\"1\" class=\"dataframe\">\n",
       "  <thead>\n",
       "    <tr style=\"text-align: right;\">\n",
       "      <th></th>\n",
       "      <th>CreditScore</th>\n",
       "      <th>Age</th>\n",
       "      <th>Tenure</th>\n",
       "      <th>Balance</th>\n",
       "      <th>NumOfProducts</th>\n",
       "      <th>HasCrCard</th>\n",
       "      <th>IsActiveMember</th>\n",
       "      <th>EstimatedSalary</th>\n",
       "      <th>Exited</th>\n",
       "      <th>Satisfaction Score</th>\n",
       "      <th>PointEarned</th>\n",
       "    </tr>\n",
       "  </thead>\n",
       "  <tbody>\n",
       "    <tr>\n",
       "      <th>0</th>\n",
       "      <td>619</td>\n",
       "      <td>42</td>\n",
       "      <td>2</td>\n",
       "      <td>0.000</td>\n",
       "      <td>1.000</td>\n",
       "      <td>1</td>\n",
       "      <td>1</td>\n",
       "      <td>101,348.880</td>\n",
       "      <td>0</td>\n",
       "      <td>2</td>\n",
       "      <td>464</td>\n",
       "    </tr>\n",
       "    <tr>\n",
       "      <th>1</th>\n",
       "      <td>608</td>\n",
       "      <td>41</td>\n",
       "      <td>1</td>\n",
       "      <td>83,807.860</td>\n",
       "      <td>1.000</td>\n",
       "      <td>0</td>\n",
       "      <td>1</td>\n",
       "      <td>112,542.580</td>\n",
       "      <td>0</td>\n",
       "      <td>3</td>\n",
       "      <td>456</td>\n",
       "    </tr>\n",
       "    <tr>\n",
       "      <th>2</th>\n",
       "      <td>502</td>\n",
       "      <td>42</td>\n",
       "      <td>8</td>\n",
       "      <td>159,660.800</td>\n",
       "      <td>3.000</td>\n",
       "      <td>1</td>\n",
       "      <td>0</td>\n",
       "      <td>113,931.570</td>\n",
       "      <td>0</td>\n",
       "      <td>3</td>\n",
       "      <td>377</td>\n",
       "    </tr>\n",
       "    <tr>\n",
       "      <th>3</th>\n",
       "      <td>699</td>\n",
       "      <td>39</td>\n",
       "      <td>1</td>\n",
       "      <td>0.000</td>\n",
       "      <td>2.000</td>\n",
       "      <td>0</td>\n",
       "      <td>0</td>\n",
       "      <td>93,826.630</td>\n",
       "      <td>0</td>\n",
       "      <td>5</td>\n",
       "      <td>350</td>\n",
       "    </tr>\n",
       "    <tr>\n",
       "      <th>4</th>\n",
       "      <td>850</td>\n",
       "      <td>43</td>\n",
       "      <td>2</td>\n",
       "      <td>125,510.820</td>\n",
       "      <td>1.000</td>\n",
       "      <td>1</td>\n",
       "      <td>1</td>\n",
       "      <td>79,084.100</td>\n",
       "      <td>0</td>\n",
       "      <td>5</td>\n",
       "      <td>425</td>\n",
       "    </tr>\n",
       "  </tbody>\n",
       "</table>\n",
       "</div>"
      ],
      "text/plain": [
       "   CreditScore  Age  Tenure     Balance  NumOfProducts  HasCrCard  \\\n",
       "0          619   42       2       0.000          1.000          1   \n",
       "1          608   41       1  83,807.860          1.000          0   \n",
       "2          502   42       8 159,660.800          3.000          1   \n",
       "3          699   39       1       0.000          2.000          0   \n",
       "4          850   43       2 125,510.820          1.000          1   \n",
       "\n",
       "   IsActiveMember  EstimatedSalary  Exited  Satisfaction Score  PointEarned  \n",
       "0               1      101,348.880       0                   2          464  \n",
       "1               1      112,542.580       0                   3          456  \n",
       "2               0      113,931.570       0                   3          377  \n",
       "3               0       93,826.630       0                   5          350  \n",
       "4               1       79,084.100       0                   5          425  "
      ]
     },
     "execution_count": 13,
     "metadata": {},
     "output_type": "execute_result"
    }
   ],
   "source": [
    "numeric_df.head()"
   ]
  },
  {
   "cell_type": "code",
   "execution_count": 15,
   "id": "cc610215",
   "metadata": {},
   "outputs": [
    {
     "data": {
      "text/plain": [
       "{'CreditScore': False,\n",
       " 'Age': False,\n",
       " 'Tenure': False,\n",
       " 'Balance': False,\n",
       " 'NumOfProducts': False,\n",
       " 'HasCrCard': False,\n",
       " 'IsActiveMember': False,\n",
       " 'EstimatedSalary': False,\n",
       " 'Exited': True,\n",
       " 'Satisfaction Score': False,\n",
       " 'PointEarned': False}"
      ]
     },
     "execution_count": 15,
     "metadata": {},
     "output_type": "execute_result"
    }
   ],
   "source": [
    "# Dictionary to hold normality test results\n",
    "normality_results = {}\n",
    "\n",
    "for column in numeric_df.columns:\n",
    "    # Perform the Shapiro-Wilk test\n",
    "    stat, p_value = stats.shapiro(numeric_df[column].dropna())\n",
    "    normality_results[column] = p_value > 0.05  # True if normal, False otherwise\n",
    "\n",
    "normality_results\n",
    "# DataFrame for better readability\n",
    "#normality_df = pd.DataFrame.from_dict(normality_results, orient='index', columns=['Is_Normally_Distributed'])\n",
    "#normality_df"
   ]
  },
  {
   "cell_type": "markdown",
   "id": "afc334c3",
   "metadata": {},
   "source": [
    "### Categorical Feature Encodings"
   ]
  },
  {
   "cell_type": "code",
   "execution_count": 16,
   "id": "a6103d60",
   "metadata": {},
   "outputs": [
    {
     "data": {
      "text/plain": [
       "Index(['Geography', 'Gender', 'CardType'], dtype='object')"
      ]
     },
     "execution_count": 16,
     "metadata": {},
     "output_type": "execute_result"
    }
   ],
   "source": [
    "# Select categorical features\n",
    "categorical_features = df.select_dtypes(include=['object']).columns\n",
    "categorical_features"
   ]
  },
  {
   "cell_type": "code",
   "execution_count": 17,
   "id": "28fb4000",
   "metadata": {},
   "outputs": [],
   "source": [
    "categorical_features = categorical_features[categorical_features != 'Surname']"
   ]
  },
  {
   "cell_type": "code",
   "execution_count": 18,
   "id": "352db438",
   "metadata": {},
   "outputs": [
    {
     "data": {
      "text/html": [
       "<div>\n",
       "<style scoped>\n",
       "    .dataframe tbody tr th:only-of-type {\n",
       "        vertical-align: middle;\n",
       "    }\n",
       "\n",
       "    .dataframe tbody tr th {\n",
       "        vertical-align: top;\n",
       "    }\n",
       "\n",
       "    .dataframe thead th {\n",
       "        text-align: right;\n",
       "    }\n",
       "</style>\n",
       "<table border=\"1\" class=\"dataframe\">\n",
       "  <thead>\n",
       "    <tr style=\"text-align: right;\">\n",
       "      <th></th>\n",
       "      <th>Geography</th>\n",
       "      <th>Gender</th>\n",
       "      <th>CardType</th>\n",
       "    </tr>\n",
       "  </thead>\n",
       "  <tbody>\n",
       "    <tr>\n",
       "      <th>0</th>\n",
       "      <td>France</td>\n",
       "      <td>Female</td>\n",
       "      <td>DIAMOND</td>\n",
       "    </tr>\n",
       "    <tr>\n",
       "      <th>1</th>\n",
       "      <td>Spain</td>\n",
       "      <td>Female</td>\n",
       "      <td>DIAMOND</td>\n",
       "    </tr>\n",
       "    <tr>\n",
       "      <th>2</th>\n",
       "      <td>France</td>\n",
       "      <td>Female</td>\n",
       "      <td>DIAMOND</td>\n",
       "    </tr>\n",
       "    <tr>\n",
       "      <th>3</th>\n",
       "      <td>France</td>\n",
       "      <td>Female</td>\n",
       "      <td>GOLD</td>\n",
       "    </tr>\n",
       "    <tr>\n",
       "      <th>4</th>\n",
       "      <td>Spain</td>\n",
       "      <td>Female</td>\n",
       "      <td>GOLD</td>\n",
       "    </tr>\n",
       "  </tbody>\n",
       "</table>\n",
       "</div>"
      ],
      "text/plain": [
       "  Geography  Gender CardType\n",
       "0    France  Female  DIAMOND\n",
       "1     Spain  Female  DIAMOND\n",
       "2    France  Female  DIAMOND\n",
       "3    France  Female     GOLD\n",
       "4     Spain  Female     GOLD"
      ]
     },
     "execution_count": 18,
     "metadata": {},
     "output_type": "execute_result"
    }
   ],
   "source": [
    "df[categorical_features].head()"
   ]
  },
  {
   "cell_type": "code",
   "execution_count": 19,
   "id": "1a495eaa",
   "metadata": {},
   "outputs": [
    {
     "name": "stdout",
     "output_type": "stream",
     "text": [
      "Feature: Geography\n",
      "Geography\n",
      "France     5014\n",
      "Germany    2509\n",
      "Spain      2477\n",
      "Name: count, dtype: int64\n",
      "---\n",
      "\n",
      "Feature: Gender\n",
      "Gender\n",
      "Male      5457\n",
      "Female    4543\n",
      "Name: count, dtype: int64\n",
      "---\n",
      "\n",
      "Feature: CardType\n",
      "CardType\n",
      "DIAMOND     2507\n",
      "GOLD        2502\n",
      "SILVER      2496\n",
      "PLATINUM    2495\n",
      "Name: count, dtype: int64\n",
      "---\n",
      "\n"
     ]
    }
   ],
   "source": [
    "for col in df[categorical_features]:\n",
    "    print(f\"Feature: {col}\")\n",
    "    print(df[col].value_counts())\n",
    "    print(\"---\\n\")"
   ]
  },
  {
   "cell_type": "code",
   "execution_count": 20,
   "id": "a76afd5e",
   "metadata": {},
   "outputs": [],
   "source": [
    "# One-hot encode the 'Geography' column\n",
    "df = pd.get_dummies(df, columns=['Geography'], prefix='Geography')"
   ]
  },
  {
   "cell_type": "code",
   "execution_count": 21,
   "id": "f79a2458",
   "metadata": {},
   "outputs": [],
   "source": [
    "# One-hot encoding for 'Gender' column // Alternative: binary encoding\n",
    "df = pd.get_dummies(df, columns=['Gender'], prefix='Gender')"
   ]
  },
  {
   "cell_type": "code",
   "execution_count": 22,
   "id": "e1a6c391",
   "metadata": {},
   "outputs": [],
   "source": [
    "# mapping for ordinal encoding for Card_Category\n",
    "card_mapping = {\n",
    "    'SILVER': 0,\n",
    "    'GOLD': 1,\n",
    "    'PLATINUM': 2,\n",
    "    'DIAMOND': 3\n",
    "}\n",
    "\n",
    "df['CardType'] = df['CardType'].map(card_mapping)"
   ]
  },
  {
   "cell_type": "code",
   "execution_count": 24,
   "id": "702e5606",
   "metadata": {},
   "outputs": [],
   "source": [
    "df.to_csv('../data/cleaned/CustomerChurnCleaned.csv', index=False)"
   ]
  }
 ],
 "metadata": {
  "kernelspec": {
   "display_name": "venv",
   "language": "python",
   "name": "python3"
  },
  "language_info": {
   "codemirror_mode": {
    "name": "ipython",
    "version": 3
   },
   "file_extension": ".py",
   "mimetype": "text/x-python",
   "name": "python",
   "nbconvert_exporter": "python",
   "pygments_lexer": "ipython3",
   "version": "3.10.0"
  }
 },
 "nbformat": 4,
 "nbformat_minor": 5
}
